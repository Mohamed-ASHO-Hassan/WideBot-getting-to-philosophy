{
  "nbformat": 4,
  "nbformat_minor": 0,
  "metadata": {
    "colab": {
      "name": "getting to philosophy.ipynb",
      "provenance": [],
      "collapsed_sections": [],
      "authorship_tag": "ABX9TyOVfUj5/QEqo8yWiFe1GH8F",
      "include_colab_link": true
    },
    "kernelspec": {
      "name": "python3",
      "display_name": "Python 3"
    }
  },
  "cells": [
    {
      "cell_type": "markdown",
      "metadata": {
        "id": "view-in-github",
        "colab_type": "text"
      },
      "source": [
        "<a href=\"https://colab.research.google.com/github/Mohamed-ASHO-Hassan/WideBot-getting-to-philosophy/blob/master/getting_to_philosophy.ipynb\" target=\"_parent\"><img src=\"https://colab.research.google.com/assets/colab-badge.svg\" alt=\"Open In Colab\"/></a>"
      ]
    },
    {
      "cell_type": "code",
      "metadata": {
        "id": "-bJQGj5rQV9-",
        "colab_type": "code",
        "colab": {}
      },
      "source": [
        "import sys\n",
        "import requests, re\n",
        "from bs4 import BeautifulSoup\n",
        "import time"
      ],
      "execution_count": null,
      "outputs": []
    },
    {
      "cell_type": "code",
      "metadata": {
        "id": "3XKHqLJRNOrb",
        "colab_type": "code",
        "colab": {
          "base_uri": "https://localhost:8080/",
          "height": 88
        },
        "outputId": "3884fd0a-b8fd-4103-86c6-5cfe14c35bf4"
      },
      "source": [
        "\n",
        "def find_philosophy(url):\n",
        "  url_o=\"_\"\n",
        "  MAX_HOPS = 100 \n",
        "  count = 0 # number of hops\n",
        "\n",
        "  r = requests.get(url)\n",
        "   \n",
        "  soup = BeautifulSoup(r.text)\n",
        "  print(r.url) # Print current url (after redirection)\n",
        "  s1=soup.find('h1',{'id':'firstHeading'})\n",
        "\n",
        "  \n",
        "  while s1.text != 'Philosophy':\n",
        "  #for i in range( 1) :\n",
        "    if count==MAX_HOPS:\n",
        "      print(\"MAX_HOPS reached.\")\n",
        "      return None\n",
        "\n",
        "    content = soup.find(id='mw-content-text')\n",
        "\n",
        "    \n",
        "    for t in content.find_all(class_=['navbox', 'vertical-navbox', 'toc']):\n",
        "      t.replace_with(\"\")\n",
        "    \n",
        "    paragraph = soup.find_all()[0] # Only DIRECT child\n",
        "    paragraph.findChildren( recursive=False)\n",
        "\n",
        "    \n",
        "    for s in paragraph.find_all(['span', 'small', 'sup,', 'i', 'table']): # remove spans and smalls with language, pronounciation\n",
        "      s.replace_with(\"\")\n",
        "    paragraphText = str(paragraph)\n",
        "    paragraphText = re.sub(r' \\(.*?\\)', '', paragraphText) # Remove leftover parenthesized text \n",
        "\n",
        "    reParagraph = BeautifulSoup(paragraphText) # back into bs4 object to find links\n",
        "    firstLink = reParagraph.find_all(href = re.compile('^/wiki/'))[0] # links that start with /wiki/ only\n",
        "    \n",
        "\n",
        "    \n",
        "    while firstLink == None :\n",
        "      # case of disambiguation: use first wiki link in list\n",
        "      if '(disambiguation)' in url or '(surname)' in url or '(Protection_policy#semi)' in url:\n",
        "        firstLink = content.ul.find(href = re.compile('^/wiki/'))\n",
        "\n",
        "      else:  \n",
        "        paragraph = paragraph.find_next_sibling(\"p\")\n",
        "        \n",
        "        if(paragraph is None): # Catch-case\n",
        "\n",
        "          if(content.ul is not None):\n",
        "            firstLink = content.ul.find(href = re.compile('^/wiki/')) # Disambiguation-type page\n",
        "          if(firstLink is None): # No links available\n",
        "            print(\"Wikipedia not reachable.\")\n",
        "            return None\n",
        "          continue\n",
        "\n",
        "        for s in paragraph.find_all(['span', 'small', 'sup,', 'i', 'table']):\n",
        "          s.replace_with(\"\")\n",
        "        paragraphText = str(paragraph)\n",
        "        paragraphText = re.sub(r' \\(.*?\\)', '', paragraphText)\n",
        "        reParagraph = BeautifulSoup(paragraphText)\n",
        "        firstLink = reParagraph.find(href = re.compile('^/wiki/'))\n",
        "\n",
        "      # For debugging:\n",
        "      #print(paragraphText) \n",
        "\n",
        "    url = 'http://en.wikipedia.org' + firstLink.get('href')\n",
        "\n",
        "    ##################################################################################case 1\n",
        "    if url==\"http://en.wikipedia.org/wiki/Wikipedia:Protection_policy#semi\":     \n",
        "      print(\"not reachable.\")\n",
        "      return None\n",
        "\n",
        "   ##################################################################################case 2\n",
        "    if (count%2==0):\n",
        "      if url_o==url:     \n",
        "        print(\"Entered a loop\")\n",
        "        return None\n",
        "      else:        \n",
        "        url_o=url\n",
        "\n",
        "    print(url)\n",
        "    r = requests.get(url) # Make new request\n",
        "    soup = BeautifulSoup(r.text) # Soup it up again\n",
        "\n",
        "    time.sleep(0.5)\n",
        "    count = count+1\n",
        "\n",
        "  print(str(count) + \" hops\")\n",
        "  return count\n",
        "  \n",
        "\n",
        "url='https://en.wikipedia.org/wiki/Special:Random'\n",
        "\n",
        "find_philosophy(url)"
      ],
      "execution_count": null,
      "outputs": [
        {
          "output_type": "stream",
          "text": [
            "https://en.wikipedia.org/wiki/John_Q._Farmer\n",
            "http://en.wikipedia.org/wiki/Minnesota\n",
            "http://en.wikipedia.org/wiki/Wikipedia:Featured_articles\n",
            "not reachable.\n"
          ],
          "name": "stdout"
        }
      ]
    }
  ]
}